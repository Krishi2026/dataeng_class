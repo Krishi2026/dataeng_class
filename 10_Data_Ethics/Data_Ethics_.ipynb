{
 "cells": [
  {
   "cell_type": "code",
   "execution_count": 3,
   "id": "175fbcb2-3e28-4291-a7f1-f2b02dca323f",
   "metadata": {},
   "outputs": [
    {
     "name": "stdout",
     "output_type": "stream",
     "text": [
      "Requirement already satisfied: faker in c:\\users\\krish\\anaconda3\\lib\\site-packages (25.8.0)\n",
      "Requirement already satisfied: python-dateutil>=2.4 in c:\\users\\krish\\anaconda3\\lib\\site-packages (from faker) (2.8.2)\n",
      "Requirement already satisfied: six>=1.5 in c:\\users\\krish\\anaconda3\\lib\\site-packages (from python-dateutil>=2.4->faker) (1.16.0)\n"
     ]
    }
   ],
   "source": [
    "!pip install faker"
   ]
  },
  {
   "cell_type": "code",
   "execution_count": 9,
   "id": "e5635cba-0242-40fa-8acd-aecf91215496",
   "metadata": {},
   "outputs": [
    {
     "name": "stdout",
     "output_type": "stream",
     "text": [
      "   Employee ID                   Name  Gender      Department  \\\n",
      "0  167-13-1869         Philip Wallace    Male           Sales   \n",
      "1  114-59-2953           William Choi    Male           Sales   \n",
      "2  680-55-7912         Benjamin Lopez    Male         Product   \n",
      "3  012-31-5101  Christopher Rodriguez    Male  Human Resource   \n",
      "4  645-46-7422       Jacqueline Smith  Female             I/T   \n",
      "\n",
      "              Job Title  Salary Nationality  Languages Spoken  \n",
      "0  Sales Representative   48306         USA   French, Spanish  \n",
      "1  Sales Representative   59036         USA  Spanish, Chinese  \n",
      "2       Product Manager   94455         USA             Hindi  \n",
      "3         HR Specialist   73211         USA             Hindi  \n",
      "4         IT Specialist   71789       India           Spanish  \n"
     ]
    }
   ],
   "source": [
    "import pandas as pd\n",
    "from faker import Faker\n",
    "import random\n",
    "\n",
    "# Initialize the Faker module\n",
    "fake = Faker()\n",
    "\n",
    "# Configuration for nationalities based on H-1B visa distributions\n",
    "nationality_weights = {\n",
    "    'India': 74.5, 'China': 11.8, 'Canada': 1.0, \n",
    "    'South Korea': 0.9, 'Philippines': 0.6, \n",
    "    'Taiwan': 0.6, 'Mexico': 0.6\n",
    "}\n",
    "\n",
    "# Define departments and associated roles and salary ranges\n",
    "department_info = {\n",
    "    'Legal': ('Paralegal', 50000, 80000),\n",
    "    'Marketing': ('Marketing Specialist', 60000, 90000),\n",
    "    'Administrative': ('Administrative Assistant', 35000, 55000),\n",
    "    'Operations': ('Operations Manager', 70000, 100000),\n",
    "    'Sales': ('Sales Representative', 45000, 75000),\n",
    "    'Finance': ('Financial Analyst', 65000, 95000),\n",
    "    'I/T': ('IT Specialist', 65000, 95000),\n",
    "    'Product': ('Product Manager', 80000, 120000),\n",
    "    'Human Resource': ('HR Specialist', 50000, 75000)\n",
    "}\n",
    "\n",
    "# Function to randomly select a nationality based on defined weights\n",
    "def choose_nationality():\n",
    "    countries, weights = zip(*nationality_weights.items())\n",
    "    return random.choices(countries, weights=weights, k=1)[0]\n",
    "\n",
    "# Function to generate synthetic employee data\n",
    "def generate_employees(num_employees=10000):\n",
    "    employees = []\n",
    "    for _ in range(num_employees):\n",
    "        department = random.choices(list(department_info.keys()), weights=[5, 10, 10, 20, 10, 5, 10, 20, 10])[0]\n",
    "        title, min_salary, max_salary = department_info[department]\n",
    "        nationality = choose_nationality() if random.random() < 0.4 else 'USA'\n",
    "        gender = random.choice(['Male', 'Female'])\n",
    "        salary = random.randint(min_salary, max_salary)\n",
    "        languages = random.sample(['Spanish', 'French', 'German', 'Chinese', 'Hindi'], random.randint(0, 2))\n",
    "        \n",
    "        employees.append({\n",
    "            'Employee ID': fake.unique.ssn(),\n",
    "            'Name': fake.name_male() if gender == 'Male' else fake.name_female(),\n",
    "            'Gender': gender,\n",
    "            'Department': department,\n",
    "            'Job Title': title,\n",
    "            'Salary': salary,\n",
    "            'Nationality': nationality,\n",
    "            'Languages Spoken': ', '.join(languages)\n",
    "        })\n",
    "        \n",
    "    return pd.DataFrame(employees)\n",
    "\n",
    "# Function to process CSV input data and generate synthetic employee data\n",
    "def process_csv_input(csv_file_path):\n",
    "    input_df = pd.read_csv(csv_file_path)\n",
    "    num_employees = len(input_df)\n",
    "    processed_employees_df = generate_employees(num_employees)\n",
    "    \n",
    "    # Optionally, you can merge input data with synthetic data if required\n",
    "    # For example, if you want to keep some columns from the input CSV\n",
    "    # processed_employees_df = pd.concat([input_df, processed_employees_df], axis=1)\n",
    "    \n",
    "    return processed_employees_df\n",
    "\n",
    "# Example usage\n",
    "input_csv_path = 'C:/Users/krish/Music/employees.csv'\n",
    "processed_employee_df = process_csv_input(input_csv_path)\n",
    "processed_employee_df.to_csv('F:/quarter_3/VA/video/synthetic_employee_data.csv', index=False)\n",
    "print(processed_employee_df.head())\n"
   ]
  },
  {
   "cell_type": "code",
   "execution_count": null,
   "id": "b496e055-36bf-48ce-8012-9cdf994df801",
   "metadata": {},
   "outputs": [],
   "source": []
  }
 ],
 "metadata": {
  "kernelspec": {
   "display_name": "Python 3 (ipykernel)",
   "language": "python",
   "name": "python3"
  },
  "language_info": {
   "codemirror_mode": {
    "name": "ipython",
    "version": 3
   },
   "file_extension": ".py",
   "mimetype": "text/x-python",
   "name": "python",
   "nbconvert_exporter": "python",
   "pygments_lexer": "ipython3",
   "version": "3.11.7"
  }
 },
 "nbformat": 4,
 "nbformat_minor": 5
}
