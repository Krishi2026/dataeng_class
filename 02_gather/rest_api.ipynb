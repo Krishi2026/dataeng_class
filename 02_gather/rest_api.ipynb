{
 "cells": [
  {
   "cell_type": "code",
   "execution_count": 1,
   "id": "e021285b-d6ec-46b8-a854-1032990b563f",
   "metadata": {},
   "outputs": [
    {
     "name": "stdout",
     "output_type": "stream",
     "text": [
      "Requirement already satisfied: requests in c:\\users\\krish\\anaconda3\\lib\\site-packages (2.31.0)\n",
      "Requirement already satisfied: charset-normalizer<4,>=2 in c:\\users\\krish\\anaconda3\\lib\\site-packages (from requests) (2.0.4)\n",
      "Requirement already satisfied: idna<4,>=2.5 in c:\\users\\krish\\anaconda3\\lib\\site-packages (from requests) (3.4)\n",
      "Requirement already satisfied: urllib3<3,>=1.21.1 in c:\\users\\krish\\anaconda3\\lib\\site-packages (from requests) (2.0.7)\n",
      "Requirement already satisfied: certifi>=2017.4.17 in c:\\users\\krish\\anaconda3\\lib\\site-packages (from requests) (2024.2.2)\n",
      "Note: you may need to restart the kernel to use updated packages.\n"
     ]
    }
   ],
   "source": [
    "pip install requests"
   ]
  },
  {
   "cell_type": "code",
   "execution_count": 15,
   "id": "0c3331a9-c2f3-460c-907e-bc3d4883a801",
   "metadata": {},
   "outputs": [
    {
     "name": "stdin",
     "output_type": "stream",
     "text": [
      "Enter the city name you want to find:  Portland\n",
      "Enter state code please:  OR\n",
      "Enter country code here:  US\n"
     ]
    },
    {
     "name": "stdout",
     "output_type": "stream",
     "text": [
      "\n",
      "Current weather details:\n",
      "Temperature: 286.72 K\n",
      "Pressure: 1007 hPa\n",
      "Humidity: 70%\n",
      "Description: overcast clouds\n",
      "It's not raining in Portland, OR.\n"
     ]
    },
    {
     "name": "stdin",
     "output_type": "stream",
     "text": [
      "Enter YEAR-MONTH-DATE in the format of YYYY-MM-DD :  2024-04-15\n",
      "Enter TIME in HH:MM:SS format to fetch the details at that particular time:  15:00:00\n"
     ]
    },
    {
     "name": "stdout",
     "output_type": "stream",
     "text": [
      "Weather details for the closest available time after 2024-04-15 15:00:00:\n",
      "Forecast Time: 2024-04-15 15:00:00\n",
      "Temperature: 281.62 K\n",
      "Pressure: 1026 hPa\n",
      "Humidity: 70%\n",
      "Weather description: overcast clouds\n"
     ]
    }
   ],
   "source": [
    "import requests\n",
    "from datetime import datetime\n",
    "\n",
    "# Base URL for OpenWeatherMap API\n",
    "current_weather_url = \"http://api.openweathermap.org/data/2.5/weather?\"\n",
    "forecast_url = \"http://api.openweathermap.org/data/2.5/forecast?\"\n",
    "\n",
    "# Function to get current weather details\n",
    "def get_current_weather(city_name, state_code, country_code, api_key):\n",
    "    # Complete URL for current weather\n",
    "    url = f\"{current_weather_url}q={city_name},{state_code},{country_code}&appid={api_key}\"\n",
    "\n",
    "    # Get current weather data from the API\n",
    "    response = requests.get(url)\n",
    "\n",
    "    # Check if the city is found\n",
    "    if response.status_code == 200:\n",
    "        # Convert response to JSON format\n",
    "        weather_data = response.json()\n",
    "\n",
    "        # Extract and print weather details\n",
    "        temperature = weather_data[\"main\"][\"temp\"]\n",
    "        pressure = weather_data[\"main\"][\"pressure\"]\n",
    "        humidity = weather_data[\"main\"][\"humidity\"]\n",
    "        description = weather_data[\"weather\"][0][\"description\"]\n",
    "\n",
    "        print(\"\\nCurrent weather details:\")\n",
    "        print(f\"Temperature: {temperature} K\")\n",
    "        print(f\"Pressure: {pressure} hPa\")\n",
    "        print(f\"Humidity: {humidity}%\")\n",
    "        print(f\"Description: {description}\")\n",
    "\n",
    "        if \"rain\" in description.lower():\n",
    "            print(f\"It's raining in {city_name}, {state_code}.\")\n",
    "        else:\n",
    "            print(f\"It's not raining in {city_name}, {state_code}.\")\n",
    "    else:\n",
    "        print(\"City Not Found\")\n",
    "\n",
    "# Function to get weather details for the closest available time after the specified time\n",
    "def get_weather_details_for_time(city_name, state_code, country_code, api_key, date, time):\n",
    "    # Complete URL for forecast\n",
    "    url = f\"{forecast_url}q={city_name},{state_code},{country_code}&appid={api_key}\"\n",
    "\n",
    "    # Get forecast data from the API\n",
    "    response = requests.get(url)\n",
    "\n",
    "    # Check if the city is found\n",
    "    if response.status_code == 200:\n",
    "        # Convert response to JSON format\n",
    "        forecast_data = response.json()\n",
    "\n",
    "        # Search for forecast data for the given date\n",
    "        closest_forecast_time = None\n",
    "        closest_time_difference = float('inf')\n",
    "\n",
    "        for forecast in forecast_data[\"list\"]:\n",
    "            # Extract date and time\n",
    "            forecast_date_time = forecast[\"dt_txt\"]\n",
    "\n",
    "            # Check if it's the given date and after the specified time\n",
    "            if forecast_date_time.startswith(date) and forecast_date_time >= f\"{date} {time}\":\n",
    "                # Extract weather details\n",
    "                temperature = forecast[\"main\"][\"temp\"]\n",
    "                pressure = forecast[\"main\"][\"pressure\"]\n",
    "                humidity = forecast[\"main\"][\"humidity\"]\n",
    "                weather_description = forecast[\"weather\"][0][\"description\"]\n",
    "\n",
    "                # Print weather details\n",
    "                print(f\"Weather details for the closest available time after {date} {time}:\")\n",
    "                print(f\"Forecast Time: {forecast_date_time}\")\n",
    "                print(f\"Temperature: {temperature} K\")\n",
    "                print(f\"Pressure: {pressure} hPa\")\n",
    "                print(f\"Humidity: {humidity}%\")\n",
    "                print(f\"Weather description: {weather_description}\")\n",
    "                return\n",
    "\n",
    "    print(f\"No forecast available for {date} at or after {time}.\")\n",
    "\n",
    "# Main function\n",
    "def main():\n",
    "    # Enter your API key here\n",
    "    api_key = \"b93ca7cc96d915f845f3e2189847751b\"\n",
    "\n",
    "    # Get user input for city name\n",
    "    city_name = input(\"Enter the city name you want to find: \")\n",
    "    state_code = input(\"Enter state code please: \")\n",
    "    country_code = input(\"Enter country code here: \")\n",
    "\n",
    "    # Get current weather details\n",
    "    get_current_weather(city_name, state_code, country_code, api_key)\n",
    "    \n",
    "    date = input(\"Enter YEAR-MONTH-DATE in the format of YYYY-MM-DD : \")\n",
    "    time = input(\"Enter TIME in HH:MM:SS format to fetch the details at that particular time: \")\n",
    "    \n",
    "    # Get weather details for the closest available time after the specified time\n",
    "    get_weather_details_for_time(city_name, state_code, country_code, api_key, date, time)\n",
    "\n",
    "# Call the main function\n",
    "if __name__ == \"__main__\":\n",
    "    main()\n"
   ]
  },
  {
   "cell_type": "code",
   "execution_count": null,
   "id": "1c955437-0da5-4490-9a29-a9ebad82c46d",
   "metadata": {},
   "outputs": [],
   "source": []
  },
  {
   "cell_type": "code",
   "execution_count": null,
   "id": "cd4a6824-e804-4a6a-8023-ab2c8905b3a4",
   "metadata": {},
   "outputs": [],
   "source": []
  }
 ],
 "metadata": {
  "kernelspec": {
   "display_name": "Python 3 (ipykernel)",
   "language": "python",
   "name": "python3"
  },
  "language_info": {
   "codemirror_mode": {
    "name": "ipython",
    "version": 3
   },
   "file_extension": ".py",
   "mimetype": "text/x-python",
   "name": "python",
   "nbconvert_exporter": "python",
   "pygments_lexer": "ipython3",
   "version": "3.11.7"
  }
 },
 "nbformat": 4,
 "nbformat_minor": 5
}
