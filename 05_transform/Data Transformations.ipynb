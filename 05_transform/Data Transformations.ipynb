{
 "cells": [
  {
   "cell_type": "code",
   "execution_count": 2,
   "id": "bfb3cae4-9623-4669-93d5-e5a4f88aaf83",
   "metadata": {},
   "outputs": [
    {
     "name": "stdout",
     "output_type": "stream",
     "text": [
      "   EVENT_NO_TRIP  EVENT_NO_STOP            OPD_DATE  VEHICLE_ID  METERS  \\\n",
      "0      259172515      259172517  15FEB2023:00:00:00        4223      40   \n",
      "1      259172515      259172517  15FEB2023:00:00:00        4223      48   \n",
      "2      259172515      259172517  15FEB2023:00:00:00        4223      57   \n",
      "3      259172515      259172517  15FEB2023:00:00:00        4223      73   \n",
      "4      259172515      259172517  15FEB2023:00:00:00        4223     112   \n",
      "\n",
      "   ACT_TIME  GPS_LONGITUDE  GPS_LATITUDE  GPS_SATELLITES  GPS_HDOP  \n",
      "0     20469    -122.648137     45.493082              12       0.7  \n",
      "1     20474    -122.648240     45.493070              12       0.8  \n",
      "2     20479    -122.648352     45.493123              12       0.8  \n",
      "3     20484    -122.648385     45.493262              12       0.7  \n",
      "4     20489    -122.648347     45.493582              12       0.8  \n"
     ]
    }
   ],
   "source": [
    "import pandas as pd\n",
    "\n",
    "# Replace 'your_file.csv' with the path to your CSV file\n",
    "csv_file_path = \"C:/Users/krish/Downloads/bc_trip259172515_230215.csv\"\n",
    "\n",
    "df = pd.read_csv(csv_file_path)\n",
    "\n",
    "# Display the first few rows of the DataFrame\n",
    "print(df.head())\n"
   ]
  },
  {
   "cell_type": "code",
   "execution_count": 3,
   "id": "3a36c13e-b290-4026-acb0-db2b23e26313",
   "metadata": {},
   "outputs": [
    {
     "name": "stdout",
     "output_type": "stream",
     "text": [
      "   EVENT_NO_TRIP            OPD_DATE  VEHICLE_ID  METERS  ACT_TIME  \\\n",
      "0      259172515  15FEB2023:00:00:00        4223      40     20469   \n",
      "1      259172515  15FEB2023:00:00:00        4223      48     20474   \n",
      "2      259172515  15FEB2023:00:00:00        4223      57     20479   \n",
      "3      259172515  15FEB2023:00:00:00        4223      73     20484   \n",
      "4      259172515  15FEB2023:00:00:00        4223     112     20489   \n",
      "\n",
      "   GPS_LONGITUDE  GPS_LATITUDE  \n",
      "0    -122.648137     45.493082  \n",
      "1    -122.648240     45.493070  \n",
      "2    -122.648352     45.493123  \n",
      "3    -122.648385     45.493262  \n",
      "4    -122.648347     45.493582  \n"
     ]
    }
   ],
   "source": [
    "import pandas as pd\n",
    "\n",
    "columns_to_use = ['column1', 'column2', 'column3']  # replace with actual column names you want to keep\n",
    "\n",
    "csv_file_path = \"C:/Users/krish/Downloads/bc_trip259172515_230215.csv\"\n",
    "\n",
    "df = pd.read_csv(csv_file_path)\n",
    "\n",
    "df = df.drop(['EVENT_NO_STOP', 'GPS_SATELLITES', 'GPS_HDOP'], axis=1)\n",
    "\n",
    "# Display the first few rows of the DataFrame\n",
    "print(df.head())\n"
   ]
  },
  {
   "cell_type": "code",
   "execution_count": 7,
   "id": "ec4c009b-3232-4fbc-ae9c-a39efa799d6a",
   "metadata": {},
   "outputs": [
    {
     "name": "stdout",
     "output_type": "stream",
     "text": [
      "   EVENT_NO_TRIP            OPD_DATE  VEHICLE_ID  METERS  ACT_TIME  \\\n",
      "0      259172515  15FEB2023:00:00:00        4223      40     20469   \n",
      "1      259172515  15FEB2023:00:00:00        4223      48     20474   \n",
      "2      259172515  15FEB2023:00:00:00        4223      57     20479   \n",
      "3      259172515  15FEB2023:00:00:00        4223      73     20484   \n",
      "4      259172515  15FEB2023:00:00:00        4223     112     20489   \n",
      "\n",
      "   GPS_LONGITUDE  GPS_LATITUDE  \n",
      "0    -122.648137     45.493082  \n",
      "1    -122.648240     45.493070  \n",
      "2    -122.648352     45.493123  \n",
      "3    -122.648385     45.493262  \n",
      "4    -122.648347     45.493582  \n"
     ]
    }
   ],
   "source": [
    "import pandas as pd\n",
    "\n",
    "columns_to_use = ['EVENT_NO_TRIP', 'OPD_DATE', 'VEHICLE_ID', 'METERS', 'ACT_TIME', 'GPS_LONGITUDE', 'GPS_LATITUDE']  \n",
    "\n",
    "csv_file_path = \"C:/Users/krish/Downloads/bc_trip259172515_230215.csv\"\n",
    "\n",
    "df = pd.read_csv(csv_file_path,usecols = columns_to_use)\n",
    "\n",
    "# Display the first few rows of the DataFrame\n",
    "print(df.head())\n"
   ]
  },
  {
   "cell_type": "code",
   "execution_count": 19,
   "id": "3b282e7e-09eb-4921-b272-a46edfc84110",
   "metadata": {},
   "outputs": [
    {
     "name": "stdout",
     "output_type": "stream",
     "text": [
      "   EVENT_NO_TRIP            OPD_DATE  VEHICLE_ID  METERS  ACT_TIME  \\\n",
      "0      259172515  15FEB2023:00:00:00        4223      40     20469   \n",
      "1      259172515  15FEB2023:00:00:00        4223      48     20474   \n",
      "2      259172515  15FEB2023:00:00:00        4223      57     20479   \n",
      "3      259172515  15FEB2023:00:00:00        4223      73     20484   \n",
      "4      259172515  15FEB2023:00:00:00        4223     112     20489   \n",
      "\n",
      "   GPS_LONGITUDE  GPS_LATITUDE           TIMESTAMP  \n",
      "0    -122.648137     45.493082 2023-02-15 05:41:09  \n",
      "1    -122.648240     45.493070 2023-02-15 05:41:14  \n",
      "2    -122.648352     45.493123 2023-02-15 05:41:19  \n",
      "3    -122.648385     45.493262 2023-02-15 05:41:24  \n",
      "4    -122.648347     45.493582 2023-02-15 05:41:29  \n"
     ]
    }
   ],
   "source": [
    "from datetime import datetime, timedelta\n",
    "import pandas as pd\n",
    "\n",
    "columns_to_use = ['EVENT_NO_TRIP', 'OPD_DATE', 'VEHICLE_ID', 'METERS', 'ACT_TIME', 'GPS_LONGITUDE', 'GPS_LATITUDE']  \n",
    "\n",
    "csv_file_path = \"C:/Users/krish/Downloads/bc_trip259172515_230215.csv\"\n",
    "\n",
    "df = pd.read_csv(csv_file_path,usecols = columns_to_use)\n",
    "\n",
    "# Function to convert OPD_DATE and ACT_TIME to TIMESTAMP\n",
    "def create_timestamp(row):\n",
    "    date_part = datetime.strptime(row['OPD_DATE'], '%d%b%Y:%H:%M:%S')  # Converts the date string to datetime\n",
    "    time_delta = timedelta(seconds=row['ACT_TIME'])  # Creates a timedelta from seconds\n",
    "    return date_part + time_delta  # Adds timedelta to datetime to get the full timestamp\n",
    "\n",
    "# Apply the function to each row\n",
    "df['TIMESTAMP'] = df.apply(create_timestamp, axis=1)\n",
    "\n",
    "# Display the first few rows to verify the new TIMESTAMP column\n",
    "print(df.head())"
   ]
  },
  {
   "cell_type": "code",
   "execution_count": 21,
   "id": "72e371b2-71a4-4ba6-949b-a3961b1c3013",
   "metadata": {},
   "outputs": [
    {
     "name": "stdout",
     "output_type": "stream",
     "text": [
      "   EVENT_NO_TRIP  VEHICLE_ID  METERS  GPS_LONGITUDE  GPS_LATITUDE  \\\n",
      "0      259172515        4223      40    -122.648137     45.493082   \n",
      "1      259172515        4223      48    -122.648240     45.493070   \n",
      "2      259172515        4223      57    -122.648352     45.493123   \n",
      "3      259172515        4223      73    -122.648385     45.493262   \n",
      "4      259172515        4223     112    -122.648347     45.493582   \n",
      "\n",
      "            TIMESTAMP  \n",
      "0 2023-02-15 05:41:09  \n",
      "1 2023-02-15 05:41:14  \n",
      "2 2023-02-15 05:41:19  \n",
      "3 2023-02-15 05:41:24  \n",
      "4 2023-02-15 05:41:29  \n"
     ]
    }
   ],
   "source": [
    "df = df.drop(['OPD_DATE', 'ACT_TIME'], axis=1)             \n",
    "print(df.head())"
   ]
  },
  {
   "cell_type": "code",
   "execution_count": 22,
   "id": "71a36add-c2cd-4ba5-9039-39a1843c7392",
   "metadata": {},
   "outputs": [
    {
     "name": "stdout",
     "output_type": "stream",
     "text": [
      "count    160.000000\n",
      "mean       7.227206\n",
      "std        4.420604\n",
      "min        0.000000\n",
      "25%        3.800000\n",
      "50%        6.400000\n",
      "75%       10.850000\n",
      "max       17.400000\n",
      "Name: SPEED, dtype: float64\n",
      "   EVENT_NO_TRIP  VEHICLE_ID  METERS  GPS_LONGITUDE  GPS_LATITUDE  \\\n",
      "0      259172515        4223      40    -122.648137     45.493082   \n",
      "1      259172515        4223      48    -122.648240     45.493070   \n",
      "2      259172515        4223      57    -122.648352     45.493123   \n",
      "3      259172515        4223      73    -122.648385     45.493262   \n",
      "4      259172515        4223     112    -122.648347     45.493582   \n",
      "\n",
      "            TIMESTAMP  SPEED  \n",
      "0 2023-02-15 05:41:09    NaN  \n",
      "1 2023-02-15 05:41:14    1.6  \n",
      "2 2023-02-15 05:41:19    1.8  \n",
      "3 2023-02-15 05:41:24    3.2  \n",
      "4 2023-02-15 05:41:29    7.8  \n"
     ]
    }
   ],
   "source": [
    "import numpy as np\n",
    "\n",
    "# Calculate the difference in METERS and TIMESTAMP between each row and its preceding row\n",
    "df['dMETERS'] = df['METERS'].diff()\n",
    "df['dTIMESTAMP'] = df['TIMESTAMP'].diff().dt.total_seconds()  # Convert the timedelta to total seconds\n",
    "\n",
    "# Calculate SPEED using a lambda function: SPEED = dMETERS / dTIMESTAMP\n",
    "df['SPEED'] = df.apply(lambda row: row['dMETERS'] / row['dTIMESTAMP'] if row['dTIMESTAMP'] > 0 else np.nan, axis=1)\n",
    "\n",
    "# Drop the temporary difference columns as they are no longer needed\n",
    "df = df.drop(['dMETERS', 'dTIMESTAMP'], axis=1)\n",
    "\n",
    "# Calculate and print the descriptive statistics for SPEED\n",
    "speed_stats = df['SPEED'].describe()\n",
    "print(speed_stats)\n",
    "\n",
    "# Display the first few rows to verify the SPEED column\n",
    "print(df.head())\n"
   ]
  },
  {
   "cell_type": "code",
   "execution_count": 23,
   "id": "d44dfb8a-9526-463a-a0a5-a4a37fdbc7c7",
   "metadata": {},
   "outputs": [
    {
     "data": {
      "text/html": [
       "<div>\n",
       "<style scoped>\n",
       "    .dataframe tbody tr th:only-of-type {\n",
       "        vertical-align: middle;\n",
       "    }\n",
       "\n",
       "    .dataframe tbody tr th {\n",
       "        vertical-align: top;\n",
       "    }\n",
       "\n",
       "    .dataframe thead th {\n",
       "        text-align: right;\n",
       "    }\n",
       "</style>\n",
       "<table border=\"1\" class=\"dataframe\">\n",
       "  <thead>\n",
       "    <tr style=\"text-align: right;\">\n",
       "      <th></th>\n",
       "      <th>EVENT_NO_TRIP</th>\n",
       "      <th>VEHICLE_ID</th>\n",
       "      <th>METERS</th>\n",
       "      <th>GPS_LONGITUDE</th>\n",
       "      <th>GPS_LATITUDE</th>\n",
       "      <th>TIMESTAMP</th>\n",
       "      <th>SPEED</th>\n",
       "    </tr>\n",
       "  </thead>\n",
       "  <tbody>\n",
       "    <tr>\n",
       "      <th>count</th>\n",
       "      <td>161.0</td>\n",
       "      <td>161.0</td>\n",
       "      <td>161.000000</td>\n",
       "      <td>161.000000</td>\n",
       "      <td>161.000000</td>\n",
       "      <td>161</td>\n",
       "      <td>160.000000</td>\n",
       "    </tr>\n",
       "    <tr>\n",
       "      <th>mean</th>\n",
       "      <td>259172515.0</td>\n",
       "      <td>4223.0</td>\n",
       "      <td>3589.186335</td>\n",
       "      <td>-122.666642</td>\n",
       "      <td>45.514643</td>\n",
       "      <td>2023-02-15 05:48:21.670807552</td>\n",
       "      <td>7.227206</td>\n",
       "    </tr>\n",
       "    <tr>\n",
       "      <th>min</th>\n",
       "      <td>259172515.0</td>\n",
       "      <td>4223.0</td>\n",
       "      <td>40.000000</td>\n",
       "      <td>-122.677585</td>\n",
       "      <td>45.493070</td>\n",
       "      <td>2023-02-15 05:41:09</td>\n",
       "      <td>0.000000</td>\n",
       "    </tr>\n",
       "    <tr>\n",
       "      <th>25%</th>\n",
       "      <td>259172515.0</td>\n",
       "      <td>4223.0</td>\n",
       "      <td>1933.000000</td>\n",
       "      <td>-122.675990</td>\n",
       "      <td>45.503155</td>\n",
       "      <td>2023-02-15 05:44:34</td>\n",
       "      <td>3.800000</td>\n",
       "    </tr>\n",
       "    <tr>\n",
       "      <th>50%</th>\n",
       "      <td>259172515.0</td>\n",
       "      <td>4223.0</td>\n",
       "      <td>4165.000000</td>\n",
       "      <td>-122.669730</td>\n",
       "      <td>45.517902</td>\n",
       "      <td>2023-02-15 05:47:54</td>\n",
       "      <td>6.400000</td>\n",
       "    </tr>\n",
       "    <tr>\n",
       "      <th>75%</th>\n",
       "      <td>259172515.0</td>\n",
       "      <td>4223.0</td>\n",
       "      <td>5208.000000</td>\n",
       "      <td>-122.660792</td>\n",
       "      <td>45.523190</td>\n",
       "      <td>2023-02-15 05:51:34</td>\n",
       "      <td>10.850000</td>\n",
       "    </tr>\n",
       "    <tr>\n",
       "      <th>max</th>\n",
       "      <td>259172515.0</td>\n",
       "      <td>4223.0</td>\n",
       "      <td>5918.000000</td>\n",
       "      <td>-122.647997</td>\n",
       "      <td>45.528065</td>\n",
       "      <td>2023-02-15 05:57:19</td>\n",
       "      <td>17.400000</td>\n",
       "    </tr>\n",
       "    <tr>\n",
       "      <th>std</th>\n",
       "      <td>0.0</td>\n",
       "      <td>0.0</td>\n",
       "      <td>1810.681478</td>\n",
       "      <td>0.010093</td>\n",
       "      <td>0.010566</td>\n",
       "      <td>NaN</td>\n",
       "      <td>4.420604</td>\n",
       "    </tr>\n",
       "  </tbody>\n",
       "</table>\n",
       "</div>"
      ],
      "text/plain": [
       "       EVENT_NO_TRIP  VEHICLE_ID       METERS  GPS_LONGITUDE  GPS_LATITUDE  \\\n",
       "count          161.0       161.0   161.000000     161.000000    161.000000   \n",
       "mean     259172515.0      4223.0  3589.186335    -122.666642     45.514643   \n",
       "min      259172515.0      4223.0    40.000000    -122.677585     45.493070   \n",
       "25%      259172515.0      4223.0  1933.000000    -122.675990     45.503155   \n",
       "50%      259172515.0      4223.0  4165.000000    -122.669730     45.517902   \n",
       "75%      259172515.0      4223.0  5208.000000    -122.660792     45.523190   \n",
       "max      259172515.0      4223.0  5918.000000    -122.647997     45.528065   \n",
       "std              0.0         0.0  1810.681478       0.010093      0.010566   \n",
       "\n",
       "                           TIMESTAMP       SPEED  \n",
       "count                            161  160.000000  \n",
       "mean   2023-02-15 05:48:21.670807552    7.227206  \n",
       "min              2023-02-15 05:41:09    0.000000  \n",
       "25%              2023-02-15 05:44:34    3.800000  \n",
       "50%              2023-02-15 05:47:54    6.400000  \n",
       "75%              2023-02-15 05:51:34   10.850000  \n",
       "max              2023-02-15 05:57:19   17.400000  \n",
       "std                              NaN    4.420604  "
      ]
     },
     "execution_count": 23,
     "metadata": {},
     "output_type": "execute_result"
    }
   ],
   "source": [
    "df.describe()"
   ]
  },
  {
   "cell_type": "code",
   "execution_count": 24,
   "id": "d3b09c04-45b7-4d96-9160-bc7a3a9a0d65",
   "metadata": {},
   "outputs": [
    {
     "data": {
      "text/plain": [
       "count    160.000000\n",
       "mean       7.227206\n",
       "std        4.420604\n",
       "min        0.000000\n",
       "25%        3.800000\n",
       "50%        6.400000\n",
       "75%       10.850000\n",
       "max       17.400000\n",
       "Name: SPEED, dtype: float64"
      ]
     },
     "execution_count": 24,
     "metadata": {},
     "output_type": "execute_result"
    }
   ],
   "source": [
    "df[\"SPEED\"].describe()\n"
   ]
  },
  {
   "cell_type": "code",
   "execution_count": null,
   "id": "e6ac175c-3807-4f3b-8ff1-6d475b692539",
   "metadata": {},
   "outputs": [],
   "source": []
  }
 ],
 "metadata": {
  "kernelspec": {
   "display_name": "Python 3 (ipykernel)",
   "language": "python",
   "name": "python3"
  },
  "language_info": {
   "codemirror_mode": {
    "name": "ipython",
    "version": 3
   },
   "file_extension": ".py",
   "mimetype": "text/x-python",
   "name": "python",
   "nbconvert_exporter": "python",
   "pygments_lexer": "ipython3",
   "version": "3.11.7"
  }
 },
 "nbformat": 4,
 "nbformat_minor": 5
}
